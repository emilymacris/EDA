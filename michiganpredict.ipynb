{
  "nbformat": 4,
  "nbformat_minor": 0,
  "metadata": {
    "colab": {
      "provenance": [],
      "authorship_tag": "ABX9TyN/JoCPpk45ImzPCAsXEE/X",
      "include_colab_link": true
    },
    "kernelspec": {
      "name": "python3",
      "display_name": "Python 3"
    },
    "language_info": {
      "name": "python"
    }
  },
  "cells": [
    {
      "cell_type": "markdown",
      "metadata": {
        "id": "view-in-github",
        "colab_type": "text"
      },
      "source": [
        "<a href=\"https://colab.research.google.com/github/emilymacris/EDA/blob/main/michiganpredict.ipynb\" target=\"_parent\"><img src=\"https://colab.research.google.com/assets/colab-badge.svg\" alt=\"Open In Colab\"/></a>"
      ]
    },
    {
      "cell_type": "code",
      "execution_count": null,
      "metadata": {
        "id": "pEZflz-H7B6T"
      },
      "outputs": [],
      "source": []
    },
    {
      "cell_type": "code",
      "source": [
        "# Read in files\n",
        "\n",
        "outcomes = pd.read_excel(\"./ds3001group/dataverse_files/WinningPartyByCounties.xlsx\") # party outcome at county level\n",
        "\n",
        "rawdemo2012 = pd.read_excel(\"./ds3001group/dataverse_files/demographicsallstates2012.xlsx\") # demographic variables at county level 2012\n",
        "rawdemo2016 = pd.read_excel(\"./ds3001group/dataverse_files/demographicsallstates2016.xlsx\") # demographic variables at county level 2016\n",
        "rawdemo2020 = pd.read_excel(\"./ds3001group/dataverse_files/demographicsallstates2020.xlsx\") # demographic variables at county level 2020\n",
        "\n",
        "mipoverty = pd.read_csv(\"./ds3001group/michigan/mipoverty.csv\") # poverty variable at county level -- Michigan\n",
        "mipoverty = mipoverty.drop([0,1, 38, 39]) # Drop national and state level statistics\n",
        "\n",
        "prediction = pd.read_excel(\"./ds3001group/2022datafinal.xlsx\")\n",
        "prediction.head(10)"
      ],
      "metadata": {
        "id": "VGo3DKdI7EdM"
      },
      "execution_count": null,
      "outputs": []
    }
  ]
}